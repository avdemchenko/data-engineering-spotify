{
 "cells": [
  {
   "cell_type": "code",
   "execution_count": 1,
   "metadata": {
    "id": "LX8FxDHXD9bR"
   },
   "outputs": [
    {
     "name": "stderr",
     "output_type": "stream",
     "text": [
      "Matplotlib is building the font cache; this may take a moment.\n"
     ]
    }
   ],
   "source": [
    "# Import necessary libraries\n",
    "import pandas as pd\n",
    "import numpy as np\n",
    "import matplotlib.pyplot as plt\n",
    "import seaborn as sns"
   ]
  },
  {
   "cell_type": "code",
   "execution_count": 2,
   "metadata": {
    "id": "0WAs6Y15EGt8"
   },
   "outputs": [],
   "source": [
    "# Load the dataset\n",
    "# Assuming the file is in the current directory\n",
    "df = pd.read_csv('tracks_features.csv')"
   ]
  },
  {
   "cell_type": "code",
   "execution_count": 3,
   "metadata": {
    "colab": {
     "base_uri": "https://localhost:8080/"
    },
    "id": "jHlTKO8BEQUK",
    "outputId": "d3d10943-9196-44e1-9c7b-b660885b36db"
   },
   "outputs": [
    {
     "name": "stdout",
     "output_type": "stream",
     "text": [
      "Dataset Information:\n",
      "<class 'pandas.core.frame.DataFrame'>\n",
      "RangeIndex: 1204025 entries, 0 to 1204024\n",
      "Data columns (total 24 columns):\n",
      " #   Column            Non-Null Count    Dtype  \n",
      "---  ------            --------------    -----  \n",
      " 0   id                1204025 non-null  object \n",
      " 1   name              1204022 non-null  object \n",
      " 2   album             1204014 non-null  object \n",
      " 3   album_id          1204025 non-null  object \n",
      " 4   artists           1204025 non-null  object \n",
      " 5   artist_ids        1204025 non-null  object \n",
      " 6   track_number      1204025 non-null  int64  \n",
      " 7   disc_number       1204025 non-null  int64  \n",
      " 8   explicit          1204025 non-null  bool   \n",
      " 9   danceability      1204025 non-null  float64\n",
      " 10  energy            1204025 non-null  float64\n",
      " 11  key               1204025 non-null  int64  \n",
      " 12  loudness          1204025 non-null  float64\n",
      " 13  mode              1204025 non-null  int64  \n",
      " 14  speechiness       1204025 non-null  float64\n",
      " 15  acousticness      1204025 non-null  float64\n",
      " 16  instrumentalness  1204025 non-null  float64\n",
      " 17  liveness          1204025 non-null  float64\n",
      " 18  valence           1204025 non-null  float64\n",
      " 19  tempo             1204025 non-null  float64\n",
      " 20  duration_ms       1204025 non-null  int64  \n",
      " 21  time_signature    1204025 non-null  float64\n",
      " 22  year              1204025 non-null  int64  \n",
      " 23  release_date      1204025 non-null  object \n",
      "dtypes: bool(1), float64(10), int64(6), object(7)\n",
      "memory usage: 212.4+ MB\n"
     ]
    }
   ],
   "source": [
    "# Display basic information about the dataset\n",
    "print(\"Dataset Information:\")\n",
    "df.info()"
   ]
  },
  {
   "cell_type": "code",
   "execution_count": 4,
   "metadata": {
    "colab": {
     "base_uri": "https://localhost:8080/",
     "height": 552
    },
    "id": "a5NsgT23ER_H",
    "outputId": "0b7b22ec-755c-47d3-b626-f5aef03f7f12"
   },
   "outputs": [
    {
     "name": "stdout",
     "output_type": "stream",
     "text": [
      "\n",
      "First 5 rows of the dataset:\n"
     ]
    },
    {
     "data": {
      "text/html": [
       "<div>\n",
       "<style scoped>\n",
       "    .dataframe tbody tr th:only-of-type {\n",
       "        vertical-align: middle;\n",
       "    }\n",
       "\n",
       "    .dataframe tbody tr th {\n",
       "        vertical-align: top;\n",
       "    }\n",
       "\n",
       "    .dataframe thead th {\n",
       "        text-align: right;\n",
       "    }\n",
       "</style>\n",
       "<table border=\"1\" class=\"dataframe\">\n",
       "  <thead>\n",
       "    <tr style=\"text-align: right;\">\n",
       "      <th></th>\n",
       "      <th>id</th>\n",
       "      <th>name</th>\n",
       "      <th>album</th>\n",
       "      <th>album_id</th>\n",
       "      <th>artists</th>\n",
       "      <th>artist_ids</th>\n",
       "      <th>track_number</th>\n",
       "      <th>disc_number</th>\n",
       "      <th>explicit</th>\n",
       "      <th>danceability</th>\n",
       "      <th>...</th>\n",
       "      <th>speechiness</th>\n",
       "      <th>acousticness</th>\n",
       "      <th>instrumentalness</th>\n",
       "      <th>liveness</th>\n",
       "      <th>valence</th>\n",
       "      <th>tempo</th>\n",
       "      <th>duration_ms</th>\n",
       "      <th>time_signature</th>\n",
       "      <th>year</th>\n",
       "      <th>release_date</th>\n",
       "    </tr>\n",
       "  </thead>\n",
       "  <tbody>\n",
       "    <tr>\n",
       "      <th>0</th>\n",
       "      <td>7lmeHLHBe4nmXzuXc0HDjk</td>\n",
       "      <td>Testify</td>\n",
       "      <td>The Battle Of Los Angeles</td>\n",
       "      <td>2eia0myWFgoHuttJytCxgX</td>\n",
       "      <td>['Rage Against The Machine']</td>\n",
       "      <td>['2d0hyoQ5ynDBnkvAbJKORj']</td>\n",
       "      <td>1</td>\n",
       "      <td>1</td>\n",
       "      <td>False</td>\n",
       "      <td>0.470</td>\n",
       "      <td>...</td>\n",
       "      <td>0.0727</td>\n",
       "      <td>0.02610</td>\n",
       "      <td>0.000011</td>\n",
       "      <td>0.3560</td>\n",
       "      <td>0.503</td>\n",
       "      <td>117.906</td>\n",
       "      <td>210133</td>\n",
       "      <td>4.0</td>\n",
       "      <td>1999</td>\n",
       "      <td>1999-11-02</td>\n",
       "    </tr>\n",
       "    <tr>\n",
       "      <th>1</th>\n",
       "      <td>1wsRitfRRtWyEapl0q22o8</td>\n",
       "      <td>Guerrilla Radio</td>\n",
       "      <td>The Battle Of Los Angeles</td>\n",
       "      <td>2eia0myWFgoHuttJytCxgX</td>\n",
       "      <td>['Rage Against The Machine']</td>\n",
       "      <td>['2d0hyoQ5ynDBnkvAbJKORj']</td>\n",
       "      <td>2</td>\n",
       "      <td>1</td>\n",
       "      <td>True</td>\n",
       "      <td>0.599</td>\n",
       "      <td>...</td>\n",
       "      <td>0.1880</td>\n",
       "      <td>0.01290</td>\n",
       "      <td>0.000071</td>\n",
       "      <td>0.1550</td>\n",
       "      <td>0.489</td>\n",
       "      <td>103.680</td>\n",
       "      <td>206200</td>\n",
       "      <td>4.0</td>\n",
       "      <td>1999</td>\n",
       "      <td>1999-11-02</td>\n",
       "    </tr>\n",
       "    <tr>\n",
       "      <th>2</th>\n",
       "      <td>1hR0fIFK2qRG3f3RF70pb7</td>\n",
       "      <td>Calm Like a Bomb</td>\n",
       "      <td>The Battle Of Los Angeles</td>\n",
       "      <td>2eia0myWFgoHuttJytCxgX</td>\n",
       "      <td>['Rage Against The Machine']</td>\n",
       "      <td>['2d0hyoQ5ynDBnkvAbJKORj']</td>\n",
       "      <td>3</td>\n",
       "      <td>1</td>\n",
       "      <td>False</td>\n",
       "      <td>0.315</td>\n",
       "      <td>...</td>\n",
       "      <td>0.4830</td>\n",
       "      <td>0.02340</td>\n",
       "      <td>0.000002</td>\n",
       "      <td>0.1220</td>\n",
       "      <td>0.370</td>\n",
       "      <td>149.749</td>\n",
       "      <td>298893</td>\n",
       "      <td>4.0</td>\n",
       "      <td>1999</td>\n",
       "      <td>1999-11-02</td>\n",
       "    </tr>\n",
       "    <tr>\n",
       "      <th>3</th>\n",
       "      <td>2lbASgTSoDO7MTuLAXlTW0</td>\n",
       "      <td>Mic Check</td>\n",
       "      <td>The Battle Of Los Angeles</td>\n",
       "      <td>2eia0myWFgoHuttJytCxgX</td>\n",
       "      <td>['Rage Against The Machine']</td>\n",
       "      <td>['2d0hyoQ5ynDBnkvAbJKORj']</td>\n",
       "      <td>4</td>\n",
       "      <td>1</td>\n",
       "      <td>True</td>\n",
       "      <td>0.440</td>\n",
       "      <td>...</td>\n",
       "      <td>0.2370</td>\n",
       "      <td>0.16300</td>\n",
       "      <td>0.000004</td>\n",
       "      <td>0.1210</td>\n",
       "      <td>0.574</td>\n",
       "      <td>96.752</td>\n",
       "      <td>213640</td>\n",
       "      <td>4.0</td>\n",
       "      <td>1999</td>\n",
       "      <td>1999-11-02</td>\n",
       "    </tr>\n",
       "    <tr>\n",
       "      <th>4</th>\n",
       "      <td>1MQTmpYOZ6fcMQc56Hdo7T</td>\n",
       "      <td>Sleep Now In the Fire</td>\n",
       "      <td>The Battle Of Los Angeles</td>\n",
       "      <td>2eia0myWFgoHuttJytCxgX</td>\n",
       "      <td>['Rage Against The Machine']</td>\n",
       "      <td>['2d0hyoQ5ynDBnkvAbJKORj']</td>\n",
       "      <td>5</td>\n",
       "      <td>1</td>\n",
       "      <td>False</td>\n",
       "      <td>0.426</td>\n",
       "      <td>...</td>\n",
       "      <td>0.0701</td>\n",
       "      <td>0.00162</td>\n",
       "      <td>0.105000</td>\n",
       "      <td>0.0789</td>\n",
       "      <td>0.539</td>\n",
       "      <td>127.059</td>\n",
       "      <td>205600</td>\n",
       "      <td>4.0</td>\n",
       "      <td>1999</td>\n",
       "      <td>1999-11-02</td>\n",
       "    </tr>\n",
       "  </tbody>\n",
       "</table>\n",
       "<p>5 rows × 24 columns</p>\n",
       "</div>"
      ],
      "text/plain": [
       "                       id                   name                      album  \\\n",
       "0  7lmeHLHBe4nmXzuXc0HDjk                Testify  The Battle Of Los Angeles   \n",
       "1  1wsRitfRRtWyEapl0q22o8        Guerrilla Radio  The Battle Of Los Angeles   \n",
       "2  1hR0fIFK2qRG3f3RF70pb7       Calm Like a Bomb  The Battle Of Los Angeles   \n",
       "3  2lbASgTSoDO7MTuLAXlTW0              Mic Check  The Battle Of Los Angeles   \n",
       "4  1MQTmpYOZ6fcMQc56Hdo7T  Sleep Now In the Fire  The Battle Of Los Angeles   \n",
       "\n",
       "                 album_id                       artists  \\\n",
       "0  2eia0myWFgoHuttJytCxgX  ['Rage Against The Machine']   \n",
       "1  2eia0myWFgoHuttJytCxgX  ['Rage Against The Machine']   \n",
       "2  2eia0myWFgoHuttJytCxgX  ['Rage Against The Machine']   \n",
       "3  2eia0myWFgoHuttJytCxgX  ['Rage Against The Machine']   \n",
       "4  2eia0myWFgoHuttJytCxgX  ['Rage Against The Machine']   \n",
       "\n",
       "                   artist_ids  track_number  disc_number  explicit  \\\n",
       "0  ['2d0hyoQ5ynDBnkvAbJKORj']             1            1     False   \n",
       "1  ['2d0hyoQ5ynDBnkvAbJKORj']             2            1      True   \n",
       "2  ['2d0hyoQ5ynDBnkvAbJKORj']             3            1     False   \n",
       "3  ['2d0hyoQ5ynDBnkvAbJKORj']             4            1      True   \n",
       "4  ['2d0hyoQ5ynDBnkvAbJKORj']             5            1     False   \n",
       "\n",
       "   danceability  ...  speechiness  acousticness  instrumentalness  liveness  \\\n",
       "0         0.470  ...       0.0727       0.02610          0.000011    0.3560   \n",
       "1         0.599  ...       0.1880       0.01290          0.000071    0.1550   \n",
       "2         0.315  ...       0.4830       0.02340          0.000002    0.1220   \n",
       "3         0.440  ...       0.2370       0.16300          0.000004    0.1210   \n",
       "4         0.426  ...       0.0701       0.00162          0.105000    0.0789   \n",
       "\n",
       "   valence    tempo  duration_ms  time_signature  year  release_date  \n",
       "0    0.503  117.906       210133             4.0  1999    1999-11-02  \n",
       "1    0.489  103.680       206200             4.0  1999    1999-11-02  \n",
       "2    0.370  149.749       298893             4.0  1999    1999-11-02  \n",
       "3    0.574   96.752       213640             4.0  1999    1999-11-02  \n",
       "4    0.539  127.059       205600             4.0  1999    1999-11-02  \n",
       "\n",
       "[5 rows x 24 columns]"
      ]
     },
     "execution_count": 4,
     "metadata": {},
     "output_type": "execute_result"
    }
   ],
   "source": [
    "# Display the first few rows of the dataset\n",
    "print(\"\\nFirst 5 rows of the dataset:\")\n",
    "df.head()"
   ]
  },
  {
   "cell_type": "code",
   "execution_count": 5,
   "metadata": {
    "colab": {
     "base_uri": "https://localhost:8080/",
     "height": 872
    },
    "id": "gV1aiNp2EWq8",
    "outputId": "1cafa5c6-d476-4a2e-dc53-5c82e7b05483"
   },
   "outputs": [
    {
     "name": "stdout",
     "output_type": "stream",
     "text": [
      "\n",
      "Missing values in each column:\n"
     ]
    },
    {
     "data": {
      "text/plain": [
       "id                   0\n",
       "name                 3\n",
       "album               11\n",
       "album_id             0\n",
       "artists              0\n",
       "artist_ids           0\n",
       "track_number         0\n",
       "disc_number          0\n",
       "explicit             0\n",
       "danceability         0\n",
       "energy               0\n",
       "key                  0\n",
       "loudness             0\n",
       "mode                 0\n",
       "speechiness          0\n",
       "acousticness         0\n",
       "instrumentalness     0\n",
       "liveness             0\n",
       "valence              0\n",
       "tempo                0\n",
       "duration_ms          0\n",
       "time_signature       0\n",
       "year                 0\n",
       "release_date         0\n",
       "dtype: int64"
      ]
     },
     "execution_count": 5,
     "metadata": {},
     "output_type": "execute_result"
    }
   ],
   "source": [
    "# Check for missing values\n",
    "print(\"\\nMissing values in each column:\")\n",
    "df.isnull().sum()"
   ]
  },
  {
   "cell_type": "code",
   "execution_count": 6,
   "metadata": {
    "colab": {
     "base_uri": "https://localhost:8080/"
    },
    "id": "2Ej4e-FMFMH7",
    "outputId": "4ffdfde4-6686-499f-febf-888e43275caf"
   },
   "outputs": [
    {
     "name": "stdout",
     "output_type": "stream",
     "text": [
      "\n",
      "Columns after dropping unnecessary ones:\n",
      "['name', 'album', 'artists', 'explicit', 'danceability', 'energy', 'key', 'loudness', 'mode', 'speechiness', 'acousticness', 'instrumentalness', 'liveness', 'valence', 'tempo', 'duration_ms', 'year', 'release_date']\n"
     ]
    }
   ],
   "source": [
    "# Step 1: Drop unnecessary columns\n",
    "df_clean = df.drop(['id', 'album_id', 'artist_ids', 'track_number', 'disc_number', 'time_signature'], axis=1)\n",
    "print(\"\\nColumns after dropping unnecessary ones:\")\n",
    "print(df_clean.columns.tolist())"
   ]
  },
  {
   "cell_type": "code",
   "execution_count": 7,
   "metadata": {
    "colab": {
     "base_uri": "https://localhost:8080/",
     "height": 277
    },
    "id": "blUJOs5eFRDz",
    "outputId": "9b83585d-ddef-4fac-fe19-410199ab087c"
   },
   "outputs": [
    {
     "name": "stdout",
     "output_type": "stream",
     "text": [
      "\n",
      "Sample artists entries before cleaning:\n"
     ]
    },
    {
     "data": {
      "text/plain": [
       "0    ['Rage Against The Machine']\n",
       "1    ['Rage Against The Machine']\n",
       "2    ['Rage Against The Machine']\n",
       "3    ['Rage Against The Machine']\n",
       "4    ['Rage Against The Machine']\n",
       "Name: artists, dtype: object"
      ]
     },
     "execution_count": 7,
     "metadata": {},
     "output_type": "execute_result"
    }
   ],
   "source": [
    "# Step 2: Clean up the artists column\n",
    "# First, check the current format\n",
    "print(\"\\nSample artists entries before cleaning:\")\n",
    "df_clean['artists'].head()"
   ]
  },
  {
   "cell_type": "code",
   "execution_count": 8,
   "metadata": {
    "id": "80WW06v5FVRI"
   },
   "outputs": [],
   "source": [
    "# Clean up artists column - remove brackets and quotes\n",
    "df_clean['artists'] = df_clean['artists'].apply(\n",
    "    lambda x: x.strip(\"[]'\\\"\").replace(\"'\", \"\").replace('\"', '') if isinstance(x, str) else x\n",
    ")"
   ]
  },
  {
   "cell_type": "code",
   "execution_count": 9,
   "metadata": {
    "colab": {
     "base_uri": "https://localhost:8080/",
     "height": 277
    },
    "id": "VGHG-qwwFeYn",
    "outputId": "7168131f-588d-4cec-e168-4499be72c3b5"
   },
   "outputs": [
    {
     "name": "stdout",
     "output_type": "stream",
     "text": [
      "\n",
      "Sample artists entries after cleaning:\n"
     ]
    },
    {
     "data": {
      "text/plain": [
       "0    Rage Against The Machine\n",
       "1    Rage Against The Machine\n",
       "2    Rage Against The Machine\n",
       "3    Rage Against The Machine\n",
       "4    Rage Against The Machine\n",
       "Name: artists, dtype: object"
      ]
     },
     "execution_count": 9,
     "metadata": {},
     "output_type": "execute_result"
    }
   ],
   "source": [
    "print(\"\\nSample artists entries after cleaning:\")\n",
    "df_clean['artists'].head()"
   ]
  },
  {
   "cell_type": "code",
   "execution_count": 10,
   "metadata": {
    "id": "V0EKXbufFixm"
   },
   "outputs": [],
   "source": [
    "# Step 3: Extract primary artist for easier analysis\n",
    "df_clean['primary_artist'] = df_clean['artists'].apply(\n",
    "    lambda x: x.split(',')[0].strip() if isinstance(x, str) and ',' in x else x\n",
    ")"
   ]
  },
  {
   "cell_type": "code",
   "execution_count": 11,
   "metadata": {
    "colab": {
     "base_uri": "https://localhost:8080/",
     "height": 277
    },
    "id": "PG4dalW2FnN8",
    "outputId": "520cd0f7-69b9-4996-ccf0-34959178c002"
   },
   "outputs": [
    {
     "name": "stdout",
     "output_type": "stream",
     "text": [
      "\n",
      "Sample primary artists:\n"
     ]
    },
    {
     "data": {
      "text/plain": [
       "0    Rage Against The Machine\n",
       "1    Rage Against The Machine\n",
       "2    Rage Against The Machine\n",
       "3    Rage Against The Machine\n",
       "4    Rage Against The Machine\n",
       "Name: primary_artist, dtype: object"
      ]
     },
     "execution_count": 11,
     "metadata": {},
     "output_type": "execute_result"
    }
   ],
   "source": [
    "print(\"\\nSample primary artists:\")\n",
    "df_clean['primary_artist'].head()"
   ]
  },
  {
   "cell_type": "code",
   "execution_count": 12,
   "metadata": {
    "id": "M6G0XpjrFpNM"
   },
   "outputs": [],
   "source": [
    "# Step 4: Round numerical audio features to 2 decimal places\n",
    "audio_features = ['danceability', 'energy', 'loudness', 'speechiness',\n",
    "                 'acousticness', 'instrumentalness', 'liveness', 'valence']"
   ]
  },
  {
   "cell_type": "code",
   "execution_count": 13,
   "metadata": {
    "id": "bmDls-JLFs8H"
   },
   "outputs": [],
   "source": [
    "for feature in audio_features:\n",
    "    df_clean[feature] = df_clean[feature].round(2)"
   ]
  },
  {
   "cell_type": "code",
   "execution_count": 14,
   "metadata": {
    "colab": {
     "base_uri": "https://localhost:8080/",
     "height": 242
    },
    "id": "7nB7RbA9FvIV",
    "outputId": "1aafe1e0-76dd-479c-8f0c-26ce00d6b986"
   },
   "outputs": [
    {
     "name": "stdout",
     "output_type": "stream",
     "text": [
      "\n",
      "Sample audio features after rounding:\n"
     ]
    },
    {
     "data": {
      "text/html": [
       "<div>\n",
       "<style scoped>\n",
       "    .dataframe tbody tr th:only-of-type {\n",
       "        vertical-align: middle;\n",
       "    }\n",
       "\n",
       "    .dataframe tbody tr th {\n",
       "        vertical-align: top;\n",
       "    }\n",
       "\n",
       "    .dataframe thead th {\n",
       "        text-align: right;\n",
       "    }\n",
       "</style>\n",
       "<table border=\"1\" class=\"dataframe\">\n",
       "  <thead>\n",
       "    <tr style=\"text-align: right;\">\n",
       "      <th></th>\n",
       "      <th>danceability</th>\n",
       "      <th>energy</th>\n",
       "      <th>loudness</th>\n",
       "      <th>speechiness</th>\n",
       "      <th>acousticness</th>\n",
       "      <th>instrumentalness</th>\n",
       "      <th>liveness</th>\n",
       "      <th>valence</th>\n",
       "    </tr>\n",
       "  </thead>\n",
       "  <tbody>\n",
       "    <tr>\n",
       "      <th>0</th>\n",
       "      <td>0.47</td>\n",
       "      <td>0.98</td>\n",
       "      <td>-5.40</td>\n",
       "      <td>0.07</td>\n",
       "      <td>0.03</td>\n",
       "      <td>0.0</td>\n",
       "      <td>0.36</td>\n",
       "      <td>0.50</td>\n",
       "    </tr>\n",
       "    <tr>\n",
       "      <th>1</th>\n",
       "      <td>0.60</td>\n",
       "      <td>0.96</td>\n",
       "      <td>-5.76</td>\n",
       "      <td>0.19</td>\n",
       "      <td>0.01</td>\n",
       "      <td>0.0</td>\n",
       "      <td>0.16</td>\n",
       "      <td>0.49</td>\n",
       "    </tr>\n",
       "    <tr>\n",
       "      <th>2</th>\n",
       "      <td>0.32</td>\n",
       "      <td>0.97</td>\n",
       "      <td>-5.42</td>\n",
       "      <td>0.48</td>\n",
       "      <td>0.02</td>\n",
       "      <td>0.0</td>\n",
       "      <td>0.12</td>\n",
       "      <td>0.37</td>\n",
       "    </tr>\n",
       "    <tr>\n",
       "      <th>3</th>\n",
       "      <td>0.44</td>\n",
       "      <td>0.97</td>\n",
       "      <td>-5.83</td>\n",
       "      <td>0.24</td>\n",
       "      <td>0.16</td>\n",
       "      <td>0.0</td>\n",
       "      <td>0.12</td>\n",
       "      <td>0.57</td>\n",
       "    </tr>\n",
       "    <tr>\n",
       "      <th>4</th>\n",
       "      <td>0.43</td>\n",
       "      <td>0.93</td>\n",
       "      <td>-6.73</td>\n",
       "      <td>0.07</td>\n",
       "      <td>0.00</td>\n",
       "      <td>0.1</td>\n",
       "      <td>0.08</td>\n",
       "      <td>0.54</td>\n",
       "    </tr>\n",
       "  </tbody>\n",
       "</table>\n",
       "</div>"
      ],
      "text/plain": [
       "   danceability  energy  loudness  speechiness  acousticness  \\\n",
       "0          0.47    0.98     -5.40         0.07          0.03   \n",
       "1          0.60    0.96     -5.76         0.19          0.01   \n",
       "2          0.32    0.97     -5.42         0.48          0.02   \n",
       "3          0.44    0.97     -5.83         0.24          0.16   \n",
       "4          0.43    0.93     -6.73         0.07          0.00   \n",
       "\n",
       "   instrumentalness  liveness  valence  \n",
       "0               0.0      0.36     0.50  \n",
       "1               0.0      0.16     0.49  \n",
       "2               0.0      0.12     0.37  \n",
       "3               0.0      0.12     0.57  \n",
       "4               0.1      0.08     0.54  "
      ]
     },
     "execution_count": 14,
     "metadata": {},
     "output_type": "execute_result"
    }
   ],
   "source": [
    "# Check the results of rounding\n",
    "print(\"\\nSample audio features after rounding:\")\n",
    "df_clean[audio_features].head()"
   ]
  },
  {
   "cell_type": "code",
   "execution_count": 15,
   "metadata": {
    "id": "mwRwSKjLFyW8"
   },
   "outputs": [],
   "source": [
    "# Step 5: Convert tempo to integer\n",
    "df_clean[\"tempo\"] = df_clean[\"tempo\"].astype(int)"
   ]
  },
  {
   "cell_type": "code",
   "execution_count": 16,
   "metadata": {
    "colab": {
     "base_uri": "https://localhost:8080/",
     "height": 277
    },
    "id": "QcSbYiLAF4Ul",
    "outputId": "42b58a5d-1bcf-4acc-ae74-2d67ed82702e"
   },
   "outputs": [
    {
     "name": "stdout",
     "output_type": "stream",
     "text": [
      "\n",
      "Sample tempo values after conversion:\n"
     ]
    },
    {
     "data": {
      "text/plain": [
       "0    117\n",
       "1    103\n",
       "2    149\n",
       "3     96\n",
       "4    127\n",
       "Name: tempo, dtype: int64"
      ]
     },
     "execution_count": 16,
     "metadata": {},
     "output_type": "execute_result"
    }
   ],
   "source": [
    "print(\"\\nSample tempo values after conversion:\")\n",
    "df_clean[\"tempo\"].head()"
   ]
  },
  {
   "cell_type": "code",
   "execution_count": 17,
   "metadata": {
    "id": "uMHdixYcF5_M"
   },
   "outputs": [],
   "source": [
    "# Step 6: Create duration in seconds column\n",
    "df_clean[\"duration_s\"] = (df_clean[\"duration_ms\"] / 1000).astype(int)"
   ]
  },
  {
   "cell_type": "code",
   "execution_count": 18,
   "metadata": {
    "colab": {
     "base_uri": "https://localhost:8080/"
    },
    "id": "HABDDhC3F82h",
    "outputId": "3b3ae441-1dcf-4cf2-a2bf-ad90fa08827c"
   },
   "outputs": [
    {
     "name": "stdout",
     "output_type": "stream",
     "text": [
      "\n",
      "Duration comparison (ms vs s):\n",
      "   duration_ms  duration_s\n",
      "0       210133         210\n",
      "1       206200         206\n",
      "2       298893         298\n",
      "3       213640         213\n",
      "4       205600         205\n"
     ]
    }
   ],
   "source": [
    "# Compare milliseconds vs seconds\n",
    "print(\"\\nDuration comparison (ms vs s):\")\n",
    "comparison = pd.DataFrame({\n",
    "    'duration_ms': df_clean[\"duration_ms\"].head(),\n",
    "    'duration_s': df_clean[\"duration_s\"].head()\n",
    "})\n",
    "print(comparison)"
   ]
  },
  {
   "cell_type": "code",
   "execution_count": 19,
   "metadata": {
    "id": "QjPiVQd6F-3B"
   },
   "outputs": [],
   "source": [
    "# Drop the milliseconds column\n",
    "df_clean = df_clean.drop(\"duration_ms\", axis=1)"
   ]
  },
  {
   "cell_type": "code",
   "execution_count": 20,
   "metadata": {
    "colab": {
     "base_uri": "https://localhost:8080/",
     "height": 277
    },
    "id": "2HbQyVxKGBZn",
    "outputId": "741f1916-8142-4544-c5b9-308620e564ef"
   },
   "outputs": [
    {
     "name": "stdout",
     "output_type": "stream",
     "text": [
      "\n",
      "Release date format before conversion:\n"
     ]
    },
    {
     "data": {
      "text/plain": [
       "0    1999-11-02\n",
       "1    1999-11-02\n",
       "2    1999-11-02\n",
       "3    1999-11-02\n",
       "4    1999-11-02\n",
       "Name: release_date, dtype: object"
      ]
     },
     "execution_count": 20,
     "metadata": {},
     "output_type": "execute_result"
    }
   ],
   "source": [
    "# Step 7: Handle the release_date column\n",
    "print(\"\\nRelease date format before conversion:\")\n",
    "df_clean['release_date'].head()"
   ]
  },
  {
   "cell_type": "code",
   "execution_count": 21,
   "metadata": {
    "id": "9YOfuN6sGC_5"
   },
   "outputs": [],
   "source": [
    "# Convert to datetime\n",
    "df_clean['release_date'] = pd.to_datetime(df_clean['release_date'], errors='coerce')"
   ]
  },
  {
   "cell_type": "code",
   "execution_count": 22,
   "metadata": {
    "id": "R9lcHrYJGGMW"
   },
   "outputs": [],
   "source": [
    "# Extract components\n",
    "df_clean['release_year'] = df_clean['release_date'].dt.year\n",
    "df_clean['release_month'] = df_clean['release_date'].dt.month\n",
    "df_clean['release_day'] = df_clean['release_date'].dt.day"
   ]
  },
  {
   "cell_type": "code",
   "execution_count": 23,
   "metadata": {
    "colab": {
     "base_uri": "https://localhost:8080/"
    },
    "id": "7BKq8MxmGJOw",
    "outputId": "fb2a2ab3-1c00-4383-a09d-a27bd936db73"
   },
   "outputs": [
    {
     "name": "stdout",
     "output_type": "stream",
     "text": [
      "\n",
      "Date components after extraction:\n",
      "  release_date  release_year  release_month  release_day\n",
      "0   1999-11-02        1999.0           11.0          2.0\n",
      "1   1999-11-02        1999.0           11.0          2.0\n",
      "2   1999-11-02        1999.0           11.0          2.0\n",
      "3   1999-11-02        1999.0           11.0          2.0\n",
      "4   1999-11-02        1999.0           11.0          2.0\n"
     ]
    }
   ],
   "source": [
    "print(\"\\nDate components after extraction:\")\n",
    "date_components = df_clean[['release_date', 'release_year', 'release_month', 'release_day']].head()\n",
    "print(date_components)"
   ]
  },
  {
   "cell_type": "code",
   "execution_count": 24,
   "metadata": {
    "id": "StWba9ykGLYe"
   },
   "outputs": [],
   "source": [
    "# Step 8: Convert year to string for consistency\n",
    "df_clean['year'] = df_clean['year'].astype(str)"
   ]
  },
  {
   "cell_type": "code",
   "execution_count": 25,
   "metadata": {
    "id": "29aXQLP2GeIq"
   },
   "outputs": [],
   "source": [
    "# Step 9: Create a decade column\n",
    "df_clean['decade'] = df_clean['year'].apply(\n",
    "    lambda x: str(int(float(x)) // 10 * 10) + 's' if x.replace('.', '', 1).isdigit() else None\n",
    ")"
   ]
  },
  {
   "cell_type": "code",
   "execution_count": 26,
   "metadata": {
    "colab": {
     "base_uri": "https://localhost:8080/"
    },
    "id": "MOs3RqW5Ggd8",
    "outputId": "f9ab0bde-221c-41f2-804c-12dbe5ace128"
   },
   "outputs": [
    {
     "name": "stdout",
     "output_type": "stream",
     "text": [
      "\n",
      "Decade examples:\n",
      "   year decade\n",
      "0  1999  1990s\n",
      "1  1999  1990s\n",
      "2  1999  1990s\n",
      "3  1999  1990s\n",
      "4  1999  1990s\n",
      "5  1999  1990s\n",
      "6  1999  1990s\n",
      "7  1999  1990s\n",
      "8  1999  1990s\n",
      "9  1999  1990s\n"
     ]
    }
   ],
   "source": [
    "print(\"\\nDecade examples:\")\n",
    "decade_examples = df_clean[['year', 'decade']].head(10)\n",
    "print(decade_examples)"
   ]
  },
  {
   "cell_type": "code",
   "execution_count": 27,
   "metadata": {
    "colab": {
     "base_uri": "https://localhost:8080/"
    },
    "id": "WRb6mrLqGii5",
    "outputId": "7eda0259-b794-4c21-e826-72be95044bcf"
   },
   "outputs": [
    {
     "name": "stdout",
     "output_type": "stream",
     "text": [
      "\n",
      "Missing values before handling:\n",
      "name                     3\n",
      "album                   11\n",
      "artists                  0\n",
      "explicit                 0\n",
      "danceability             0\n",
      "energy                   0\n",
      "key                      0\n",
      "loudness                 0\n",
      "mode                     0\n",
      "speechiness              0\n",
      "acousticness             0\n",
      "instrumentalness         0\n",
      "liveness                 0\n",
      "valence                  0\n",
      "tempo                    0\n",
      "year                     0\n",
      "release_date        131186\n",
      "primary_artist           0\n",
      "duration_s               0\n",
      "release_year        131186\n",
      "release_month       131186\n",
      "release_day         131186\n",
      "decade                   0\n",
      "dtype: int64\n"
     ]
    }
   ],
   "source": [
    "# Step 10: Handle missing values\n",
    "print(\"\\nMissing values before handling:\")\n",
    "print(df_clean.isnull().sum())"
   ]
  },
  {
   "cell_type": "code",
   "execution_count": 28,
   "metadata": {
    "id": "WIz18AfmGlkm"
   },
   "outputs": [],
   "source": [
    "# Drop rows with missing values in critical columns\n",
    "critical_columns = ['name', 'album', 'artists', 'danceability', 'energy']\n",
    "df_clean = df_clean.dropna(subset=critical_columns)"
   ]
  },
  {
   "cell_type": "code",
   "execution_count": 29,
   "metadata": {
    "id": "QuIRMVK5Gouf"
   },
   "outputs": [],
   "source": [
    "# Fill remaining NaNs with appropriate values\n",
    "df_clean = df_clean.fillna({\n",
    "    'mode': 0,\n",
    "    'key': -1,\n",
    "    'explicit': False\n",
    "})"
   ]
  },
  {
   "cell_type": "code",
   "execution_count": 30,
   "metadata": {
    "colab": {
     "base_uri": "https://localhost:8080/"
    },
    "id": "h8mbZdYYGruh",
    "outputId": "38958f9d-ae57-4182-af84-cb0989546bd4"
   },
   "outputs": [
    {
     "name": "stdout",
     "output_type": "stream",
     "text": [
      "\n",
      "Missing values after handling:\n",
      "name                     0\n",
      "album                    0\n",
      "artists                  0\n",
      "explicit                 0\n",
      "danceability             0\n",
      "energy                   0\n",
      "key                      0\n",
      "loudness                 0\n",
      "mode                     0\n",
      "speechiness              0\n",
      "acousticness             0\n",
      "instrumentalness         0\n",
      "liveness                 0\n",
      "valence                  0\n",
      "tempo                    0\n",
      "year                     0\n",
      "release_date        131186\n",
      "primary_artist           0\n",
      "duration_s               0\n",
      "release_year        131186\n",
      "release_month       131186\n",
      "release_day         131186\n",
      "decade                   0\n",
      "dtype: int64\n"
     ]
    }
   ],
   "source": [
    "print(\"\\nMissing values after handling:\")\n",
    "print(df_clean.isnull().sum())"
   ]
  },
  {
   "cell_type": "code",
   "execution_count": 31,
   "metadata": {
    "id": "Pu0rRXu1Gwkz"
   },
   "outputs": [],
   "source": [
    "# Step 11: Create a unique song identifier\n",
    "df_clean['song_id'] = df_clean.apply(\n",
    "    lambda row: f\"{row['primary_artist']}-{row['name']}\".lower().replace(' ', '_'), axis=1\n",
    ")"
   ]
  },
  {
   "cell_type": "code",
   "execution_count": 32,
   "metadata": {
    "colab": {
     "base_uri": "https://localhost:8080/",
     "height": 242
    },
    "id": "NNNt_4WrGzzR",
    "outputId": "07c091be-984e-4463-a6fd-3efeff73c1da"
   },
   "outputs": [
    {
     "name": "stdout",
     "output_type": "stream",
     "text": [
      "\n",
      "Sample song IDs:\n"
     ]
    },
    {
     "data": {
      "text/html": [
       "<div>\n",
       "<style scoped>\n",
       "    .dataframe tbody tr th:only-of-type {\n",
       "        vertical-align: middle;\n",
       "    }\n",
       "\n",
       "    .dataframe tbody tr th {\n",
       "        vertical-align: top;\n",
       "    }\n",
       "\n",
       "    .dataframe thead th {\n",
       "        text-align: right;\n",
       "    }\n",
       "</style>\n",
       "<table border=\"1\" class=\"dataframe\">\n",
       "  <thead>\n",
       "    <tr style=\"text-align: right;\">\n",
       "      <th></th>\n",
       "      <th>name</th>\n",
       "      <th>primary_artist</th>\n",
       "      <th>song_id</th>\n",
       "    </tr>\n",
       "  </thead>\n",
       "  <tbody>\n",
       "    <tr>\n",
       "      <th>0</th>\n",
       "      <td>Testify</td>\n",
       "      <td>Rage Against The Machine</td>\n",
       "      <td>rage_against_the_machine-testify</td>\n",
       "    </tr>\n",
       "    <tr>\n",
       "      <th>1</th>\n",
       "      <td>Guerrilla Radio</td>\n",
       "      <td>Rage Against The Machine</td>\n",
       "      <td>rage_against_the_machine-guerrilla_radio</td>\n",
       "    </tr>\n",
       "    <tr>\n",
       "      <th>2</th>\n",
       "      <td>Calm Like a Bomb</td>\n",
       "      <td>Rage Against The Machine</td>\n",
       "      <td>rage_against_the_machine-calm_like_a_bomb</td>\n",
       "    </tr>\n",
       "    <tr>\n",
       "      <th>3</th>\n",
       "      <td>Mic Check</td>\n",
       "      <td>Rage Against The Machine</td>\n",
       "      <td>rage_against_the_machine-mic_check</td>\n",
       "    </tr>\n",
       "    <tr>\n",
       "      <th>4</th>\n",
       "      <td>Sleep Now In the Fire</td>\n",
       "      <td>Rage Against The Machine</td>\n",
       "      <td>rage_against_the_machine-sleep_now_in_the_fire</td>\n",
       "    </tr>\n",
       "  </tbody>\n",
       "</table>\n",
       "</div>"
      ],
      "text/plain": [
       "                    name            primary_artist  \\\n",
       "0                Testify  Rage Against The Machine   \n",
       "1        Guerrilla Radio  Rage Against The Machine   \n",
       "2       Calm Like a Bomb  Rage Against The Machine   \n",
       "3              Mic Check  Rage Against The Machine   \n",
       "4  Sleep Now In the Fire  Rage Against The Machine   \n",
       "\n",
       "                                          song_id  \n",
       "0                rage_against_the_machine-testify  \n",
       "1        rage_against_the_machine-guerrilla_radio  \n",
       "2       rage_against_the_machine-calm_like_a_bomb  \n",
       "3              rage_against_the_machine-mic_check  \n",
       "4  rage_against_the_machine-sleep_now_in_the_fire  "
      ]
     },
     "execution_count": 32,
     "metadata": {},
     "output_type": "execute_result"
    }
   ],
   "source": [
    "print(\"\\nSample song IDs:\")\n",
    "df_clean[['name', 'primary_artist', 'song_id']].head()"
   ]
  },
  {
   "cell_type": "code",
   "execution_count": 33,
   "metadata": {
    "colab": {
     "base_uri": "https://localhost:8080/"
    },
    "id": "yR4FWnYaG1sP",
    "outputId": "2a02b429-80cb-4230-acb7-2e9dd712e7bc"
   },
   "outputs": [
    {
     "name": "stdout",
     "output_type": "stream",
     "text": [
      "\n",
      "Final cleaned dataset info:\n",
      "<class 'pandas.core.frame.DataFrame'>\n",
      "Index: 1204012 entries, 0 to 1204024\n",
      "Data columns (total 24 columns):\n",
      " #   Column            Non-Null Count    Dtype         \n",
      "---  ------            --------------    -----         \n",
      " 0   name              1204012 non-null  object        \n",
      " 1   album             1204012 non-null  object        \n",
      " 2   artists           1204012 non-null  object        \n",
      " 3   explicit          1204012 non-null  bool          \n",
      " 4   danceability      1204012 non-null  float64       \n",
      " 5   energy            1204012 non-null  float64       \n",
      " 6   key               1204012 non-null  int64         \n",
      " 7   loudness          1204012 non-null  float64       \n",
      " 8   mode              1204012 non-null  int64         \n",
      " 9   speechiness       1204012 non-null  float64       \n",
      " 10  acousticness      1204012 non-null  float64       \n",
      " 11  instrumentalness  1204012 non-null  float64       \n",
      " 12  liveness          1204012 non-null  float64       \n",
      " 13  valence           1204012 non-null  float64       \n",
      " 14  tempo             1204012 non-null  int64         \n",
      " 15  year              1204012 non-null  object        \n",
      " 16  release_date      1072826 non-null  datetime64[ns]\n",
      " 17  primary_artist    1204012 non-null  object        \n",
      " 18  duration_s        1204012 non-null  int64         \n",
      " 19  release_year      1072826 non-null  float64       \n",
      " 20  release_month     1072826 non-null  float64       \n",
      " 21  release_day       1072826 non-null  float64       \n",
      " 22  decade            1204012 non-null  object        \n",
      " 23  song_id           1204012 non-null  object        \n",
      "dtypes: bool(1), datetime64[ns](1), float64(11), int64(4), object(7)\n",
      "memory usage: 221.6+ MB\n"
     ]
    }
   ],
   "source": [
    "# Final check of the cleaned dataset\n",
    "print(\"\\nFinal cleaned dataset info:\")\n",
    "df_clean.info()"
   ]
  },
  {
   "cell_type": "code",
   "execution_count": 34,
   "metadata": {
    "colab": {
     "base_uri": "https://localhost:8080/",
     "height": 552
    },
    "id": "30TiVeMeG3vo",
    "outputId": "b770d193-f27b-4e7e-c9fb-dc00c02e3186"
   },
   "outputs": [
    {
     "name": "stdout",
     "output_type": "stream",
     "text": [
      "\n",
      "Final cleaned dataset sample:\n"
     ]
    },
    {
     "data": {
      "text/html": [
       "<div>\n",
       "<style scoped>\n",
       "    .dataframe tbody tr th:only-of-type {\n",
       "        vertical-align: middle;\n",
       "    }\n",
       "\n",
       "    .dataframe tbody tr th {\n",
       "        vertical-align: top;\n",
       "    }\n",
       "\n",
       "    .dataframe thead th {\n",
       "        text-align: right;\n",
       "    }\n",
       "</style>\n",
       "<table border=\"1\" class=\"dataframe\">\n",
       "  <thead>\n",
       "    <tr style=\"text-align: right;\">\n",
       "      <th></th>\n",
       "      <th>name</th>\n",
       "      <th>album</th>\n",
       "      <th>artists</th>\n",
       "      <th>explicit</th>\n",
       "      <th>danceability</th>\n",
       "      <th>energy</th>\n",
       "      <th>key</th>\n",
       "      <th>loudness</th>\n",
       "      <th>mode</th>\n",
       "      <th>speechiness</th>\n",
       "      <th>...</th>\n",
       "      <th>tempo</th>\n",
       "      <th>year</th>\n",
       "      <th>release_date</th>\n",
       "      <th>primary_artist</th>\n",
       "      <th>duration_s</th>\n",
       "      <th>release_year</th>\n",
       "      <th>release_month</th>\n",
       "      <th>release_day</th>\n",
       "      <th>decade</th>\n",
       "      <th>song_id</th>\n",
       "    </tr>\n",
       "  </thead>\n",
       "  <tbody>\n",
       "    <tr>\n",
       "      <th>0</th>\n",
       "      <td>Testify</td>\n",
       "      <td>The Battle Of Los Angeles</td>\n",
       "      <td>Rage Against The Machine</td>\n",
       "      <td>False</td>\n",
       "      <td>0.47</td>\n",
       "      <td>0.98</td>\n",
       "      <td>7</td>\n",
       "      <td>-5.40</td>\n",
       "      <td>1</td>\n",
       "      <td>0.07</td>\n",
       "      <td>...</td>\n",
       "      <td>117</td>\n",
       "      <td>1999</td>\n",
       "      <td>1999-11-02</td>\n",
       "      <td>Rage Against The Machine</td>\n",
       "      <td>210</td>\n",
       "      <td>1999.0</td>\n",
       "      <td>11.0</td>\n",
       "      <td>2.0</td>\n",
       "      <td>1990s</td>\n",
       "      <td>rage_against_the_machine-testify</td>\n",
       "    </tr>\n",
       "    <tr>\n",
       "      <th>1</th>\n",
       "      <td>Guerrilla Radio</td>\n",
       "      <td>The Battle Of Los Angeles</td>\n",
       "      <td>Rage Against The Machine</td>\n",
       "      <td>True</td>\n",
       "      <td>0.60</td>\n",
       "      <td>0.96</td>\n",
       "      <td>11</td>\n",
       "      <td>-5.76</td>\n",
       "      <td>1</td>\n",
       "      <td>0.19</td>\n",
       "      <td>...</td>\n",
       "      <td>103</td>\n",
       "      <td>1999</td>\n",
       "      <td>1999-11-02</td>\n",
       "      <td>Rage Against The Machine</td>\n",
       "      <td>206</td>\n",
       "      <td>1999.0</td>\n",
       "      <td>11.0</td>\n",
       "      <td>2.0</td>\n",
       "      <td>1990s</td>\n",
       "      <td>rage_against_the_machine-guerrilla_radio</td>\n",
       "    </tr>\n",
       "    <tr>\n",
       "      <th>2</th>\n",
       "      <td>Calm Like a Bomb</td>\n",
       "      <td>The Battle Of Los Angeles</td>\n",
       "      <td>Rage Against The Machine</td>\n",
       "      <td>False</td>\n",
       "      <td>0.32</td>\n",
       "      <td>0.97</td>\n",
       "      <td>7</td>\n",
       "      <td>-5.42</td>\n",
       "      <td>1</td>\n",
       "      <td>0.48</td>\n",
       "      <td>...</td>\n",
       "      <td>149</td>\n",
       "      <td>1999</td>\n",
       "      <td>1999-11-02</td>\n",
       "      <td>Rage Against The Machine</td>\n",
       "      <td>298</td>\n",
       "      <td>1999.0</td>\n",
       "      <td>11.0</td>\n",
       "      <td>2.0</td>\n",
       "      <td>1990s</td>\n",
       "      <td>rage_against_the_machine-calm_like_a_bomb</td>\n",
       "    </tr>\n",
       "    <tr>\n",
       "      <th>3</th>\n",
       "      <td>Mic Check</td>\n",
       "      <td>The Battle Of Los Angeles</td>\n",
       "      <td>Rage Against The Machine</td>\n",
       "      <td>True</td>\n",
       "      <td>0.44</td>\n",
       "      <td>0.97</td>\n",
       "      <td>11</td>\n",
       "      <td>-5.83</td>\n",
       "      <td>0</td>\n",
       "      <td>0.24</td>\n",
       "      <td>...</td>\n",
       "      <td>96</td>\n",
       "      <td>1999</td>\n",
       "      <td>1999-11-02</td>\n",
       "      <td>Rage Against The Machine</td>\n",
       "      <td>213</td>\n",
       "      <td>1999.0</td>\n",
       "      <td>11.0</td>\n",
       "      <td>2.0</td>\n",
       "      <td>1990s</td>\n",
       "      <td>rage_against_the_machine-mic_check</td>\n",
       "    </tr>\n",
       "    <tr>\n",
       "      <th>4</th>\n",
       "      <td>Sleep Now In the Fire</td>\n",
       "      <td>The Battle Of Los Angeles</td>\n",
       "      <td>Rage Against The Machine</td>\n",
       "      <td>False</td>\n",
       "      <td>0.43</td>\n",
       "      <td>0.93</td>\n",
       "      <td>2</td>\n",
       "      <td>-6.73</td>\n",
       "      <td>1</td>\n",
       "      <td>0.07</td>\n",
       "      <td>...</td>\n",
       "      <td>127</td>\n",
       "      <td>1999</td>\n",
       "      <td>1999-11-02</td>\n",
       "      <td>Rage Against The Machine</td>\n",
       "      <td>205</td>\n",
       "      <td>1999.0</td>\n",
       "      <td>11.0</td>\n",
       "      <td>2.0</td>\n",
       "      <td>1990s</td>\n",
       "      <td>rage_against_the_machine-sleep_now_in_the_fire</td>\n",
       "    </tr>\n",
       "  </tbody>\n",
       "</table>\n",
       "<p>5 rows × 24 columns</p>\n",
       "</div>"
      ],
      "text/plain": [
       "                    name                      album                   artists  \\\n",
       "0                Testify  The Battle Of Los Angeles  Rage Against The Machine   \n",
       "1        Guerrilla Radio  The Battle Of Los Angeles  Rage Against The Machine   \n",
       "2       Calm Like a Bomb  The Battle Of Los Angeles  Rage Against The Machine   \n",
       "3              Mic Check  The Battle Of Los Angeles  Rage Against The Machine   \n",
       "4  Sleep Now In the Fire  The Battle Of Los Angeles  Rage Against The Machine   \n",
       "\n",
       "   explicit  danceability  energy  key  loudness  mode  speechiness  ...  \\\n",
       "0     False          0.47    0.98    7     -5.40     1         0.07  ...   \n",
       "1      True          0.60    0.96   11     -5.76     1         0.19  ...   \n",
       "2     False          0.32    0.97    7     -5.42     1         0.48  ...   \n",
       "3      True          0.44    0.97   11     -5.83     0         0.24  ...   \n",
       "4     False          0.43    0.93    2     -6.73     1         0.07  ...   \n",
       "\n",
       "   tempo  year  release_date            primary_artist  duration_s  \\\n",
       "0    117  1999    1999-11-02  Rage Against The Machine         210   \n",
       "1    103  1999    1999-11-02  Rage Against The Machine         206   \n",
       "2    149  1999    1999-11-02  Rage Against The Machine         298   \n",
       "3     96  1999    1999-11-02  Rage Against The Machine         213   \n",
       "4    127  1999    1999-11-02  Rage Against The Machine         205   \n",
       "\n",
       "  release_year release_month release_day  decade  \\\n",
       "0       1999.0          11.0         2.0   1990s   \n",
       "1       1999.0          11.0         2.0   1990s   \n",
       "2       1999.0          11.0         2.0   1990s   \n",
       "3       1999.0          11.0         2.0   1990s   \n",
       "4       1999.0          11.0         2.0   1990s   \n",
       "\n",
       "                                          song_id  \n",
       "0                rage_against_the_machine-testify  \n",
       "1        rage_against_the_machine-guerrilla_radio  \n",
       "2       rage_against_the_machine-calm_like_a_bomb  \n",
       "3              rage_against_the_machine-mic_check  \n",
       "4  rage_against_the_machine-sleep_now_in_the_fire  \n",
       "\n",
       "[5 rows x 24 columns]"
      ]
     },
     "execution_count": 34,
     "metadata": {},
     "output_type": "execute_result"
    }
   ],
   "source": [
    "print(\"\\nFinal cleaned dataset sample:\")\n",
    "df_clean.head()"
   ]
  },
  {
   "cell_type": "code",
   "execution_count": 35,
   "metadata": {
    "colab": {
     "base_uri": "https://localhost:8080/",
     "height": 460
    },
    "id": "CZE3j-lkG7Jt",
    "outputId": "4b0659e7-732f-4bf5-baca-b6ae3fa1dd59"
   },
   "outputs": [
    {
     "name": "stdout",
     "output_type": "stream",
     "text": [
      "\n",
      "Summary statistics for numerical features:\n"
     ]
    },
    {
     "data": {
      "text/html": [
       "<div>\n",
       "<style scoped>\n",
       "    .dataframe tbody tr th:only-of-type {\n",
       "        vertical-align: middle;\n",
       "    }\n",
       "\n",
       "    .dataframe tbody tr th {\n",
       "        vertical-align: top;\n",
       "    }\n",
       "\n",
       "    .dataframe thead th {\n",
       "        text-align: right;\n",
       "    }\n",
       "</style>\n",
       "<table border=\"1\" class=\"dataframe\">\n",
       "  <thead>\n",
       "    <tr style=\"text-align: right;\">\n",
       "      <th></th>\n",
       "      <th>danceability</th>\n",
       "      <th>energy</th>\n",
       "      <th>key</th>\n",
       "      <th>loudness</th>\n",
       "      <th>mode</th>\n",
       "      <th>speechiness</th>\n",
       "      <th>acousticness</th>\n",
       "      <th>instrumentalness</th>\n",
       "      <th>liveness</th>\n",
       "      <th>valence</th>\n",
       "      <th>tempo</th>\n",
       "      <th>release_date</th>\n",
       "      <th>duration_s</th>\n",
       "      <th>release_year</th>\n",
       "      <th>release_month</th>\n",
       "      <th>release_day</th>\n",
       "    </tr>\n",
       "  </thead>\n",
       "  <tbody>\n",
       "    <tr>\n",
       "      <th>count</th>\n",
       "      <td>1.204012e+06</td>\n",
       "      <td>1.204012e+06</td>\n",
       "      <td>1.204012e+06</td>\n",
       "      <td>1.204012e+06</td>\n",
       "      <td>1.204012e+06</td>\n",
       "      <td>1.204012e+06</td>\n",
       "      <td>1.204012e+06</td>\n",
       "      <td>1.204012e+06</td>\n",
       "      <td>1.204012e+06</td>\n",
       "      <td>1.204012e+06</td>\n",
       "      <td>1.204012e+06</td>\n",
       "      <td>1072826</td>\n",
       "      <td>1.204012e+06</td>\n",
       "      <td>1.072826e+06</td>\n",
       "      <td>1.072826e+06</td>\n",
       "      <td>1.072826e+06</td>\n",
       "    </tr>\n",
       "    <tr>\n",
       "      <th>mean</th>\n",
       "      <td>4.930502e-01</td>\n",
       "      <td>5.095309e-01</td>\n",
       "      <td>5.194165e+00</td>\n",
       "      <td>-1.180876e+01</td>\n",
       "      <td>6.714609e-01</td>\n",
       "      <td>8.440961e-02</td>\n",
       "      <td>4.466409e-01</td>\n",
       "      <td>2.827300e-01</td>\n",
       "      <td>2.015757e-01</td>\n",
       "      <td>4.280206e-01</td>\n",
       "      <td>1.171434e+02</td>\n",
       "      <td>2009-05-22 16:50:22.611308544</td>\n",
       "      <td>2.483640e+02</td>\n",
       "      <td>2.008941e+03</td>\n",
       "      <td>5.996895e+00</td>\n",
       "      <td>1.334875e+01</td>\n",
       "    </tr>\n",
       "    <tr>\n",
       "      <th>min</th>\n",
       "      <td>0.000000e+00</td>\n",
       "      <td>0.000000e+00</td>\n",
       "      <td>0.000000e+00</td>\n",
       "      <td>-6.000000e+01</td>\n",
       "      <td>0.000000e+00</td>\n",
       "      <td>0.000000e+00</td>\n",
       "      <td>0.000000e+00</td>\n",
       "      <td>0.000000e+00</td>\n",
       "      <td>0.000000e+00</td>\n",
       "      <td>0.000000e+00</td>\n",
       "      <td>0.000000e+00</td>\n",
       "      <td>1900-01-01 00:00:00</td>\n",
       "      <td>1.000000e+00</td>\n",
       "      <td>1.900000e+03</td>\n",
       "      <td>1.000000e+00</td>\n",
       "      <td>1.000000e+00</td>\n",
       "    </tr>\n",
       "    <tr>\n",
       "      <th>25%</th>\n",
       "      <td>3.600000e-01</td>\n",
       "      <td>2.500000e-01</td>\n",
       "      <td>2.000000e+00</td>\n",
       "      <td>-1.525000e+01</td>\n",
       "      <td>0.000000e+00</td>\n",
       "      <td>4.000000e-02</td>\n",
       "      <td>4.000000e-02</td>\n",
       "      <td>0.000000e+00</td>\n",
       "      <td>1.000000e-01</td>\n",
       "      <td>1.900000e-01</td>\n",
       "      <td>9.400000e+01</td>\n",
       "      <td>2004-10-05 00:00:00</td>\n",
       "      <td>1.740000e+02</td>\n",
       "      <td>2.004000e+03</td>\n",
       "      <td>3.000000e+00</td>\n",
       "      <td>4.000000e+00</td>\n",
       "    </tr>\n",
       "    <tr>\n",
       "      <th>50%</th>\n",
       "      <td>5.000000e-01</td>\n",
       "      <td>5.200000e-01</td>\n",
       "      <td>5.000000e+00</td>\n",
       "      <td>-9.790000e+00</td>\n",
       "      <td>1.000000e+00</td>\n",
       "      <td>4.000000e-02</td>\n",
       "      <td>3.900000e-01</td>\n",
       "      <td>1.000000e-02</td>\n",
       "      <td>1.200000e-01</td>\n",
       "      <td>4.000000e-01</td>\n",
       "      <td>1.160000e+02</td>\n",
       "      <td>2010-06-25 00:00:00</td>\n",
       "      <td>2.240000e+02</td>\n",
       "      <td>2.010000e+03</td>\n",
       "      <td>6.000000e+00</td>\n",
       "      <td>1.300000e+01</td>\n",
       "    </tr>\n",
       "    <tr>\n",
       "      <th>75%</th>\n",
       "      <td>6.300000e-01</td>\n",
       "      <td>7.700000e-01</td>\n",
       "      <td>8.000000e+00</td>\n",
       "      <td>-6.720000e+00</td>\n",
       "      <td>1.000000e+00</td>\n",
       "      <td>7.000000e-02</td>\n",
       "      <td>8.600000e-01</td>\n",
       "      <td>7.200000e-01</td>\n",
       "      <td>2.400000e-01</td>\n",
       "      <td>6.400000e-01</td>\n",
       "      <td>1.370000e+02</td>\n",
       "      <td>2016-07-03 00:00:00</td>\n",
       "      <td>2.850000e+02</td>\n",
       "      <td>2.016000e+03</td>\n",
       "      <td>9.000000e+00</td>\n",
       "      <td>2.200000e+01</td>\n",
       "    </tr>\n",
       "    <tr>\n",
       "      <th>max</th>\n",
       "      <td>1.000000e+00</td>\n",
       "      <td>1.000000e+00</td>\n",
       "      <td>1.100000e+01</td>\n",
       "      <td>7.230000e+00</td>\n",
       "      <td>1.000000e+00</td>\n",
       "      <td>9.700000e-01</td>\n",
       "      <td>1.000000e+00</td>\n",
       "      <td>1.000000e+00</td>\n",
       "      <td>1.000000e+00</td>\n",
       "      <td>1.000000e+00</td>\n",
       "      <td>2.480000e+02</td>\n",
       "      <td>2020-12-18 00:00:00</td>\n",
       "      <td>6.061000e+03</td>\n",
       "      <td>2.020000e+03</td>\n",
       "      <td>1.200000e+01</td>\n",
       "      <td>3.100000e+01</td>\n",
       "    </tr>\n",
       "    <tr>\n",
       "      <th>std</th>\n",
       "      <td>1.896965e-01</td>\n",
       "      <td>2.947154e-01</td>\n",
       "      <td>3.536723e+00</td>\n",
       "      <td>6.982139e+00</td>\n",
       "      <td>4.696822e-01</td>\n",
       "      <td>1.160080e-01</td>\n",
       "      <td>3.853064e-01</td>\n",
       "      <td>3.763900e-01</td>\n",
       "      <td>1.804919e-01</td>\n",
       "      <td>2.703928e-01</td>\n",
       "      <td>3.093565e+01</td>\n",
       "      <td>NaN</td>\n",
       "      <td>1.622133e+02</td>\n",
       "      <td>8.761909e+00</td>\n",
       "      <td>3.582452e+00</td>\n",
       "      <td>9.733687e+00</td>\n",
       "    </tr>\n",
       "  </tbody>\n",
       "</table>\n",
       "</div>"
      ],
      "text/plain": [
       "       danceability        energy           key      loudness          mode  \\\n",
       "count  1.204012e+06  1.204012e+06  1.204012e+06  1.204012e+06  1.204012e+06   \n",
       "mean   4.930502e-01  5.095309e-01  5.194165e+00 -1.180876e+01  6.714609e-01   \n",
       "min    0.000000e+00  0.000000e+00  0.000000e+00 -6.000000e+01  0.000000e+00   \n",
       "25%    3.600000e-01  2.500000e-01  2.000000e+00 -1.525000e+01  0.000000e+00   \n",
       "50%    5.000000e-01  5.200000e-01  5.000000e+00 -9.790000e+00  1.000000e+00   \n",
       "75%    6.300000e-01  7.700000e-01  8.000000e+00 -6.720000e+00  1.000000e+00   \n",
       "max    1.000000e+00  1.000000e+00  1.100000e+01  7.230000e+00  1.000000e+00   \n",
       "std    1.896965e-01  2.947154e-01  3.536723e+00  6.982139e+00  4.696822e-01   \n",
       "\n",
       "        speechiness  acousticness  instrumentalness      liveness  \\\n",
       "count  1.204012e+06  1.204012e+06      1.204012e+06  1.204012e+06   \n",
       "mean   8.440961e-02  4.466409e-01      2.827300e-01  2.015757e-01   \n",
       "min    0.000000e+00  0.000000e+00      0.000000e+00  0.000000e+00   \n",
       "25%    4.000000e-02  4.000000e-02      0.000000e+00  1.000000e-01   \n",
       "50%    4.000000e-02  3.900000e-01      1.000000e-02  1.200000e-01   \n",
       "75%    7.000000e-02  8.600000e-01      7.200000e-01  2.400000e-01   \n",
       "max    9.700000e-01  1.000000e+00      1.000000e+00  1.000000e+00   \n",
       "std    1.160080e-01  3.853064e-01      3.763900e-01  1.804919e-01   \n",
       "\n",
       "            valence         tempo                   release_date  \\\n",
       "count  1.204012e+06  1.204012e+06                        1072826   \n",
       "mean   4.280206e-01  1.171434e+02  2009-05-22 16:50:22.611308544   \n",
       "min    0.000000e+00  0.000000e+00            1900-01-01 00:00:00   \n",
       "25%    1.900000e-01  9.400000e+01            2004-10-05 00:00:00   \n",
       "50%    4.000000e-01  1.160000e+02            2010-06-25 00:00:00   \n",
       "75%    6.400000e-01  1.370000e+02            2016-07-03 00:00:00   \n",
       "max    1.000000e+00  2.480000e+02            2020-12-18 00:00:00   \n",
       "std    2.703928e-01  3.093565e+01                            NaN   \n",
       "\n",
       "         duration_s  release_year  release_month   release_day  \n",
       "count  1.204012e+06  1.072826e+06   1.072826e+06  1.072826e+06  \n",
       "mean   2.483640e+02  2.008941e+03   5.996895e+00  1.334875e+01  \n",
       "min    1.000000e+00  1.900000e+03   1.000000e+00  1.000000e+00  \n",
       "25%    1.740000e+02  2.004000e+03   3.000000e+00  4.000000e+00  \n",
       "50%    2.240000e+02  2.010000e+03   6.000000e+00  1.300000e+01  \n",
       "75%    2.850000e+02  2.016000e+03   9.000000e+00  2.200000e+01  \n",
       "max    6.061000e+03  2.020000e+03   1.200000e+01  3.100000e+01  \n",
       "std    1.622133e+02  8.761909e+00   3.582452e+00  9.733687e+00  "
      ]
     },
     "execution_count": 35,
     "metadata": {},
     "output_type": "execute_result"
    }
   ],
   "source": [
    "# Display summary statistics\n",
    "print(\"\\nSummary statistics for numerical features:\")\n",
    "df_clean.describe()"
   ]
  },
  {
   "cell_type": "code",
   "execution_count": 36,
   "metadata": {
    "colab": {
     "base_uri": "https://localhost:8080/"
    },
    "id": "3iS7uoneHFew",
    "outputId": "4740ff9e-8a5e-4d3c-9dcb-9e826807ce1e"
   },
   "outputs": [
    {
     "name": "stdout",
     "output_type": "stream",
     "text": [
      "\n",
      "Cleaned dataset saved to 'cleaned_tracks_features.csv'\n"
     ]
    }
   ],
   "source": [
    "# Save the cleaned dataset\n",
    "df_clean.to_csv('cleaned_tracks_features.csv', index=False)\n",
    "print(\"\\nCleaned dataset saved to 'cleaned_tracks_features.csv'\")"
   ]
  },
  {
   "cell_type": "code",
   "execution_count": 37,
   "metadata": {
    "colab": {
     "base_uri": "https://localhost:8080/",
     "height": 53
    },
    "id": "gxJ1FLNvHJLl",
    "outputId": "76e22910-c6c4-43e5-b921-4c9a08531cce"
   },
   "outputs": [
    {
     "data": {
      "text/plain": [
       "<Figure size 1500x1000 with 0 Axes>"
      ]
     },
     "execution_count": 37,
     "metadata": {},
     "output_type": "execute_result"
    },
    {
     "data": {
      "text/plain": [
       "<Figure size 1500x1000 with 0 Axes>"
      ]
     },
     "metadata": {},
     "output_type": "display_data"
    }
   ],
   "source": [
    "# Visualize key distributions after cleaning\n",
    "plt.figure(figsize=(15, 10))"
   ]
  },
  {
   "cell_type": "code",
   "execution_count": null,
   "metadata": {
    "colab": {
     "base_uri": "https://localhost:8080/",
     "height": 1000
    },
    "id": "TQLy6YoxHazP",
    "outputId": "28b1bca7-ae7f-43dc-f33e-b6c7fc820f55"
   },
   "outputs": [],
   "source": [
    "# Define all audio features to visualize\n",
    "all_features = ['danceability', 'energy', 'loudness', 'speechiness',\n",
    "               'acousticness', 'instrumentalness', 'liveness', 'valence', 'tempo']\n",
    "\n",
    "# Create separate plots for each feature with enhanced styling\n",
    "for feature in all_features:\n",
    "    plt.figure(figsize=(10, 6))\n",
    "\n",
    "    # Create main distribution plot with KDE\n",
    "    ax = sns.histplot(data=df_clean, x=feature, kde=True, color='steelblue',\n",
    "                    bins=30, alpha=0.7, edgecolor='black', linewidth=0.5)\n",
    "\n",
    "    # Add vertical line for mean\n",
    "    plt.axvline(df_clean[feature].mean(), color='crimson', linestyle='--',\n",
    "                linewidth=2, label=f'Mean: {df_clean[feature].mean():.2f}')\n",
    "\n",
    "    # Add vertical line for median\n",
    "    plt.axvline(df_clean[feature].median(), color='darkgreen', linestyle='-',\n",
    "                linewidth=2, label=f'Median: {df_clean[feature].median():.2f}')\n",
    "\n",
    "    # Add descriptive title and labels\n",
    "    plt.title(f'Distribution of {feature.capitalize()}', fontsize=16, pad=20)\n",
    "    plt.xlabel(f'{feature.capitalize()} Value', fontsize=12)\n",
    "    plt.ylabel('Frequency', fontsize=12)\n",
    "\n",
    "    # Add descriptive statistics as text\n",
    "    stats_text = (f\"Mean: {df_clean[feature].mean():.2f}\\n\"\n",
    "                  f\"Median: {df_clean[feature].median():.2f}\\n\"\n",
    "                  f\"Std Dev: {df_clean[feature].std():.2f}\\n\"\n",
    "                  f\"Min: {df_clean[feature].min():.2f}\\n\"\n",
    "                  f\"Max: {df_clean[feature].max():.2f}\")\n",
    "\n",
    "    # Place the text box in the upper right\n",
    "    props = dict(boxstyle='round', facecolor='white', alpha=0.7)\n",
    "    plt.text(0.95, 0.95, stats_text, transform=plt.gca().transAxes, fontsize=10,\n",
    "            verticalalignment='top', horizontalalignment='right', bbox=props)\n",
    "\n",
    "    # Add legend\n",
    "    plt.legend()\n",
    "\n",
    "    # Add grid for better readability\n",
    "    plt.grid(True, alpha=0.3, linestyle='--')\n",
    "\n",
    "    # Add tight layout and save figure\n",
    "    plt.tight_layout()\n",
    "    plt.savefig(f'{feature}_distribution.png', dpi=300)\n",
    "    plt.show()\n",
    "\n",
    "# Create a boxplot for all features (normalized) to compare distributions\n",
    "plt.figure(figsize=(14, 8))\n",
    "\n",
    "# Create a copy of the dataframe with normalized features for comparison\n",
    "df_normalized = df_clean.copy()\n",
    "\n",
    "# Normalize each feature to 0-1 scale for comparison\n",
    "for feature in all_features:\n",
    "    if feature in df_normalized.columns:\n",
    "        min_val = df_normalized[feature].min()\n",
    "        max_val = df_normalized[feature].max()\n",
    "        df_normalized[feature] = (df_normalized[feature] - min_val) / (max_val - min_val)\n",
    "\n",
    "# Create a melted dataframe for the boxplot\n",
    "df_melted = pd.melt(df_normalized, value_vars=all_features, var_name='Feature', value_name='Normalized Value')\n",
    "\n",
    "# Create the boxplot\n",
    "sns.boxplot(x='Feature', y='Normalized Value', data=df_melted, palette='viridis')\n",
    "plt.title('Comparison of Audio Feature Distributions (Normalized)', fontsize=16)\n",
    "plt.xticks(rotation=45)\n",
    "plt.tight_layout()\n",
    "plt.savefig('audio_features_comparison.png', dpi=300)\n",
    "plt.show()"
   ]
  },
  {
   "cell_type": "code",
   "execution_count": null,
   "metadata": {
    "colab": {
     "base_uri": "https://localhost:8080/"
    },
    "id": "R_HqEObkHlJK",
    "outputId": "f9e711d9-9014-4766-94c2-1042faa2634d"
   },
   "outputs": [],
   "source": [
    "print(\"Data cleaning process completed successfully!\")"
   ]
  }
 ],
 "metadata": {
  "colab": {
   "provenance": []
  },
  "kernelspec": {
   "display_name": "Python 3 (ipykernel)",
   "language": "python",
   "name": "python3"
  },
  "language_info": {
   "codemirror_mode": {
    "name": "ipython",
    "version": 3
   },
   "file_extension": ".py",
   "mimetype": "text/x-python",
   "name": "python",
   "nbconvert_exporter": "python",
   "pygments_lexer": "ipython3",
   "version": "3.9.21"
  }
 },
 "nbformat": 4,
 "nbformat_minor": 4
}
